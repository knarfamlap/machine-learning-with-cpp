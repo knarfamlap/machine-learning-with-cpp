{
 "cells": [
  {
   "cell_type": "markdown",
   "metadata": {},
   "source": [
    "# Linear Regression\n",
    "\n",
    "Linear Regression is a linear model. In this case we are using OLS(Ordinary Least Squares)\n",
    "\n",
    "### Author\n",
    "- Frank Palma (**@knarfamlap**)"
   ]
  },
  {
   "cell_type": "code",
   "execution_count": 26,
   "metadata": {},
   "outputs": [],
   "source": [
    "import numpy as np"
   ]
  },
  {
   "cell_type": "code",
   "execution_count": 27,
   "metadata": {},
   "outputs": [],
   "source": [
    "class LinearRegression(object):\n",
    "    \n",
    "    def __init__(self):\n",
    "        self.coefficients = []\n",
    "    \n",
    "    def _reshape_x(self, X):\n",
    "        # if X only has 1 feature, \n",
    "        # turn it into a column vector\n",
    "        return X.reshape(-1, 1)\n",
    "    \n",
    "    def _concatenate_ones(self, X):\n",
    "        # create column vector of ones\n",
    "        # has the same number of rows as X\n",
    "        ones = np.ones(shape=X.shape[0]).reshape(-1, 1)\n",
    "        # append it to the right side of X\n",
    "        return np.concatenate((ones, X), 1)\n",
    "    \n",
    "    def predict(self, entry):\n",
    "        # get the intercept\n",
    "        b0 = self.coefficients[0]\n",
    "        # get x1..xn\n",
    "        other_betas = self.coefficients[1:]\n",
    "        # prediction\n",
    "        prediction = b0\n",
    "        # calculate prediction\n",
    "        for xi, bi in zip(entry, other_betas): prediction += (bi * xi)\n",
    "        return prediction\n",
    "    \n",
    "    def fit(self, X, y):\n",
    "        if (len(X.shape) == 1):\n",
    "            X = self._reshape_x(X)\n",
    "        \n",
    "        X = self._concatenate_ones(X)\n",
    "        self.coefficients = np.linalg.inv(X.transpose().dot(X)).dot(X.transpose()).dot(y)"
   ]
  }
 ],
 "metadata": {
  "kernelspec": {
   "display_name": "Python 3.7.6 64-bit ('venv': venv)",
   "language": "python",
   "name": "python37664bitvenvvenv35d8a8e8f97649d893e23f12ad7b1901"
  },
  "language_info": {
   "codemirror_mode": {
    "name": "ipython",
    "version": 3
   },
   "file_extension": ".py",
   "mimetype": "text/x-python",
   "name": "python",
   "nbconvert_exporter": "python",
   "pygments_lexer": "ipython3",
   "version": "3.7.6"
  }
 },
 "nbformat": 4,
 "nbformat_minor": 4
}
