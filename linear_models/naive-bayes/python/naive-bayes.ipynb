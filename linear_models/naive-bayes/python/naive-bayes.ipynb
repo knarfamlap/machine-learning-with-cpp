{
 "cells": [
  {
   "cell_type": "code",
   "execution_count": 1,
   "metadata": {},
   "outputs": [],
   "source": [
    "import numpy as np"
   ]
  },
  {
   "cell_type": "code",
   "execution_count": null,
   "metadata": {},
   "outputs": [],
   "source": [
    "class NaiveBayes(object):\n",
    "    \"\"\"\n",
    "    Binary Naive Bayes Implementation\n",
    "    \"\"\"\n",
    "    def __init(self):\n",
    "        self.phi_k = []\n",
    "        self.phi_y = [] \n",
    "        \n",
    "    def fit(self, X, y):\n",
    "        \"\"\"\n",
    "        Args:\n",
    "            X: training data. Shape (m, n) \n",
    "            y: training labels. Must be binary (0, 1). Shape(m)\n",
    "            \n",
    "        \"\"\"\n",
    "        # \n",
    "        labels = y.astype(np.bool)\n",
    "        m, n = X.shape # get size of training data\n",
    "        \n",
    "        phi_k = np.zeros((2, n))\n",
    "        # \n",
    "        phi_k[0] = X[~labels].sum(axis=0)\n",
    "        phi_k[1] = X[labels].sum(axis=0)\n",
    "        \n",
    "        # add laplace smoothing\n",
    "        phi_k += 1\n",
    "        \n",
    "        phi_y = label.sum() / labels.shape[0]\n",
    "        \n",
    "        self.phi_k = phi_k\n",
    "        self.phi_y = phi_y\n",
    "    \n",
    "    def predict(self, X):\n",
    "        \"\"\"\n",
    "        Args:\n",
    "            X: test samples to predict. Shape (m, n)\n",
    "        \"\"\"\n",
    "        log_likelihood = np.sum(X[:,None] * np.log(self.phi_k), axis=-1)\n",
    "        log_likelihood[:, 0] += np.log(1 - self.phi_y)\n",
    "        log_likelihood[:, 1] += np.log(self.phi_y)\n",
    "        \n",
    "        return np.argmax(log_likelihood, axis=1)\n",
    "        "
   ]
  }
 ],
 "metadata": {
  "kernelspec": {
   "display_name": "Python 3",
   "language": "python",
   "name": "python3"
  },
  "language_info": {
   "codemirror_mode": {
    "name": "ipython",
    "version": 3
   },
   "file_extension": ".py",
   "mimetype": "text/x-python",
   "name": "python",
   "nbconvert_exporter": "python",
   "pygments_lexer": "ipython3",
   "version": "3.7.6"
  }
 },
 "nbformat": 4,
 "nbformat_minor": 4
}
