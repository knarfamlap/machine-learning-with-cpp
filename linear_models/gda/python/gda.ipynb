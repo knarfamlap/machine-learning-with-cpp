{
 "cells": [
  {
   "cell_type": "code",
   "execution_count": 1,
   "metadata": {},
   "outputs": [],
   "source": [
    "import sys\n",
    "import numpy as np\n",
    " \n",
    "sys.path.insert(1, \"../../\")\n",
    "from linear_model import LinearModel"
   ]
  },
  {
   "cell_type": "code",
   "execution_count": 3,
   "metadata": {},
   "outputs": [],
   "source": [
    "def add_intercept(x):\n",
    "    \"\"\"\n",
    "    Add intercept to matrix x.\n",
    "    Args:\n",
    "        x: 2D NumPy array.\n",
    "    Returns:\n",
    "        New matrix same as x with 1's in the 0th column.\n",
    "    \"\"\"\n",
    "    new_x = np.zeros((x.shape[0], x.shape[1] + 1), dtype=x.dtype)\n",
    "    new_x[:, 0] = 1\n",
    "    new_x[:, 1:] = x\n",
    "\n",
    "    return new_x"
   ]
  },
  {
   "cell_type": "code",
   "execution_count": null,
   "metadata": {},
   "outputs": [],
   "source": [
    "class GDA(LinearModel):\n",
    "    def fit(self, x, y):\n",
    "    \"\"\"\n",
    "    Fit GDA model given x, y\n",
    "    \n",
    "    Args:\n",
    "        x: training samples. Shape (m, n)\n",
    "        y: training labels. shape (m,)\n",
    "        \n",
    "    \"\"\"\n",
    "    \n",
    "    # get shape of training samples\n",
    "    m, n = x.shape\n",
    "    # find parameters\n",
    "    phi = (y ==  1).sum() / m\n",
    "    mu_0 = x[y == 0].sum(axis=0) / (y == 0).sum()\n",
    "    mu_1 = x[y == 1].sum(axis=0) / (y == 1).sum()\n",
    "    # create copy of x\n",
    "    diff = x.copy()\n",
    "    # difference of x\n",
    "    diff[y == 0] -= mu_0\n",
    "    diff[y == 1] -= mu_1\n",
    "    \n",
    "    sigma = (1 / m) * diff.T.dot(diff)\n",
    "    # inverse of sigma \n",
    "    sigma_inv = np.linalg.inv(sigma)\n",
    "    theta = sigma_inv.dot(mu_1 - mu_0)\n",
    "    theta_0 = 0.5 * (mu_0.T.dot(sigma_inv).dot(mu_0) - mu_1.T.dot(sigma_inv).dot(mu_1)) - np.log((1 - phi) / phi)\n",
    "    theta_0 = np.array([theta_0])\n",
    "    theta = np.hstack([theta_0, theta])\n",
    "    self.theta\n",
    "    \n",
    "    def predict(self, x):\n",
    "        \"\"\"\n",
    "        Makes prediction on given x. Does not assume intercept\n",
    "        is added\n",
    "        \n",
    "        Args:\n",
    "            x: inputs, shape(m, n)\n",
    "            \n",
    "        Returns:\n",
    "            Output shape(m,)\n",
    "        \"\"\" \n",
    "        sigmoid = lambda z: 1 / (1 + np.exp(-z))\n",
    "        \n",
    "        x = add_intercept(x)\n",
    "        probas = sigmoid(x.dot(self.theta))\n",
    "        preds = (probas >= 0.5).astype(np.int)\n",
    "        \n",
    "        return preds\n",
    "        \n",
    "        \n",
    "        "
   ]
  }
 ],
 "metadata": {
  "kernelspec": {
   "display_name": "Python 3",
   "language": "python",
   "name": "python3"
  },
  "language_info": {
   "codemirror_mode": {
    "name": "ipython",
    "version": 3
   },
   "file_extension": ".py",
   "mimetype": "text/x-python",
   "name": "python",
   "nbconvert_exporter": "python",
   "pygments_lexer": "ipython3",
   "version": "3.7.6"
  }
 },
 "nbformat": 4,
 "nbformat_minor": 4
}
