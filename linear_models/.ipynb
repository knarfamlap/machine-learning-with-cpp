{
 "cells": [
  {
   "cell_type": "code",
   "execution_count": 1,
   "metadata": {},
   "outputs": [],
   "source": [
    "class LinearModel(object):\n",
    "    \n",
    "    def __init__(self, step_size=0.2, max_iter=100, eps=1e-5, theta_0=None, verbose=True):\n",
    "        \"\"\"\n",
    "        Args:\n",
    "            step_size: step size for iterative solvers only\n",
    "            max_iter: maximum number of iterations for the solver\n",
    "            eps: threshold for termining convergence \n",
    "            theta_0: init guess for theta. Use zero vector if None\n",
    "            verbose: Print loss values during training\n",
    "        \"\"\"\n",
    "        self.theta = theta_0 \n",
    "        self.step_size = step_size\n",
    "        self.max_iter = max_iter\n",
    "        self.eps = eps\n",
    "        self.verbose = verbose\n",
    "        \n",
    "    def fit(self, x, y):\n",
    "        \"\"\"\n",
    "        Run solver to fit linear model. \n",
    "        \n",
    "        Args:\n",
    "            x: Training examples. Shape (m, n)\n",
    "            y: Training examples labels. Shape (m)\n",
    "        \"\"\"\n",
    "        raise NotImplementedError(\"Subclass of LinearModel must implement fit method.\")\n",
    "        \n",
    "    def predict(self, x):\n",
    "        \"\"\"\n",
    "        Make prediction given new inputs x\n",
    "        \n",
    "        Args: \n",
    "            x: inputs of shape (m, n)\n",
    "            \n",
    "        Returns: \n",
    "            outputs of shape (m)\n",
    "        \"\"\"\n",
    "        \n",
    "        raise NotImplementedError(\"Subclass of LinearModel must implement predict method.\")"
   ]
  },
  {
   "cell_type": "code",
   "execution_count": null,
   "metadata": {},
   "outputs": [],
   "source": []
  }
 ],
 "metadata": {
  "kernelspec": {
   "display_name": "Python 3",
   "language": "python",
   "name": "python3"
  },
  "language_info": {
   "codemirror_mode": {
    "name": "ipython",
    "version": 3
   },
   "file_extension": ".py",
   "mimetype": "text/x-python",
   "name": "python",
   "nbconvert_exporter": "python",
   "pygments_lexer": "ipython3",
   "version": "3.7.6"
  }
 },
 "nbformat": 4,
 "nbformat_minor": 4
}
