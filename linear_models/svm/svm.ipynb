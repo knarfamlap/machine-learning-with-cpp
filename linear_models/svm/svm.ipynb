{
 "cells": [
  {
   "cell_type": "code",
   "execution_count": 2,
   "metadata": {},
   "outputs": [],
   "source": [
    "from cvxopt import matrix as cvxopt_matrix\n",
    "from cvxopt import solvers as cvxopt_solvers\n",
    "import numpy as np"
   ]
  },
  {
   "cell_type": "code",
   "execution_count": null,
   "metadata": {},
   "outputs": [],
   "source": [
    "class SupportVectorMachine(object):\n",
    "    \n",
    "    def __init__(self, C=1, kernel='lib'):\n",
    "        self.C = C\n",
    "    \n",
    "    def rbf(xi, xj, sigma=5.0):\n",
    "        return  np.exp(np.linalg.norm(xi, xj) ** 2 / (2 * (sigma ** 2)))\n",
    "    \n",
    "    def linear(xi, xj):\n",
    "        return np.dot(xi, xj) \n",
    "    \n",
    "    def poly(xi, xj):\n",
    "        \n",
    "    \n",
    "    def proj(self, X): \n",
    "        m, n = X.shape\n",
    "        if self.w is not None:\n",
    "            return np.dot(X, self.w) + self.b\n",
    "        \n",
    "        else: \n",
    "            y_pred = np.zeros(m)\n",
    "            for i in range(m):\n",
    "                s = 0\n",
    "                for a, sv_y, sv = zip(self.a, self.sv_y, self.sv):\n",
    "                    s += a * sv_y * self.kernel(X[i], sv)\n",
    "                    \n",
    "                y_pred[i] = s \n",
    "            \n",
    "            return y_pred + self.b\n",
    "    \n",
    "    def fit(self, X, y):\n",
    "        \"\"\"\"\"\"\n",
    "        m, n = X.shape\n",
    "        \n",
    "        y = y.reshape(-1, 1) * 1\n",
    "        X_dash = y * X\n",
    "        \n",
    "        H = np.dot(X_dash, X_dash.T) * 1\n",
    "        \n",
    "        # Quadratic Progrmaming to solve for Lagrange Multipliers\n",
    "        P = cvxopt_matrix(H)\n",
    "        q = cvxopt_matrix(-np.ones((m, 1)))\n",
    "        # 2D array with ones on the diagonal and zeros elsewhere\n",
    "        G = cvxopt_matrix(np.vstack((np.eye(m)* -1, np.eye(m))))\n",
    "        h = cvxopt_matrix(np.hstack((np.zeros(m), np.ones(m) * self.C)))\n",
    "        A = cvxopt_matrix(y.reshape(1, -1))\n",
    "        b = cvxopt_matrix(np.zeros(1))\n",
    "        \n",
    "        cvxopt_solvers.options['show_progress'] = False\n",
    "        cvxopt_solvers.options['abstol'] = 1e-10\n",
    "        cvxopt_solvers.options['reltol'] = 1e-10\n",
    "        cvxopt_solvers.options['feastol'] = 1e-10\n",
    "        \n",
    "        sol = cvxopt_solvers.qp(P, q, G, h, A, b)\n",
    "        alphas = np.array(sol['x'])\n",
    "        \n",
    "        # Compute W\n",
    "        self.w = ((y * alphas).T @ X).reshape(-1, 1)\n",
    "        \n",
    "        S = (alphas > 1e-4).flatten() \n",
    "        # Computer b\n",
    "        self.b = np.mean(y[S] - np.dot(X[S], w))\n",
    "        \n",
    "        \n",
    "    def predict(self, X):\n",
    "        \"\"\"\n",
    "        Predicts labels for the provided data: {-1, 1}\n",
    "        Args:\n",
    "            X: dataframe that contains data. Shape (m, n)\n",
    "        \"\"\"\n",
    "        return np.sign(np.dot(X, self.w) + self.b)"
   ]
  },
  {
   "cell_type": "code",
   "execution_count": 4,
   "metadata": {},
   "outputs": [
    {
     "data": {
      "text/plain": [
       "3"
      ]
     },
     "execution_count": 4,
     "metadata": {},
     "output_type": "execute_result"
    }
   ],
   "source": [
    "len(np.array([[2, 2], [2, 2], [2, 2]]))"
   ]
  },
  {
   "cell_type": "code",
   "execution_count": null,
   "metadata": {},
   "outputs": [],
   "source": []
  }
 ],
 "metadata": {
  "kernelspec": {
   "display_name": "Python 3",
   "language": "python",
   "name": "python3"
  },
  "language_info": {
   "codemirror_mode": {
    "name": "ipython",
    "version": 3
   },
   "file_extension": ".py",
   "mimetype": "text/x-python",
   "name": "python",
   "nbconvert_exporter": "python",
   "pygments_lexer": "ipython3",
   "version": "3.7.6"
  }
 },
 "nbformat": 4,
 "nbformat_minor": 4
}
