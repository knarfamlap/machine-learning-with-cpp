{
 "cells": [
  {
   "cell_type": "code",
   "execution_count": 1,
   "metadata": {},
   "outputs": [],
   "source": [
    "import numpy as np"
   ]
  },
  {
   "cell_type": "code",
   "execution_count": null,
   "metadata": {},
   "outputs": [],
   "source": [
    "class LogisticRegression(object): \n",
    "    \n",
    "    def __init__(self, num_steps, learning_rate, fit_intercept=True):\n",
    "        self.num_steps = num_steps\n",
    "        self.learning_rate = learning_rate\n",
    "        self.fit_intercept = fit_intercept\n",
    "        \n",
    "    def _sigmoid(scores):\n",
    "        return 1 / (1 + np.exp(-scores))\n",
    "    \n",
    "    def fit(self, X, y):\n",
    "        if (fit_intercept):\n",
    "            self.intercept = np.ones((X.shape[0], 1))\n",
    "            # concatenate the intercept matrix\n",
    "            X = np.hstack((self.intercept, X))\n",
    "        \n",
    "        self.weights = np.zeros(X.shape[1])\n",
    "        \n",
    "        for step in xrange(num_steps):\n",
    "            self.scores = np.dot(X, self.weights)\n",
    "            \n",
    "        \n",
    "        "
   ]
  }
 ],
 "metadata": {
  "kernelspec": {
   "display_name": "Python 3.7.6 64-bit ('venv': venv)",
   "language": "python",
   "name": "python37664bitvenvvenv35d8a8e8f97649d893e23f12ad7b1901"
  },
  "language_info": {
   "codemirror_mode": {
    "name": "ipython",
    "version": 3
   },
   "file_extension": ".py",
   "mimetype": "text/x-python",
   "name": "python",
   "nbconvert_exporter": "python",
   "pygments_lexer": "ipython3",
   "version": "3.7.6"
  }
 },
 "nbformat": 4,
 "nbformat_minor": 4
}
