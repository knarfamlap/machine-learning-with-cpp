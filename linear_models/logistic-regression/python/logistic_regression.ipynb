{
 "cells": [
  {
   "cell_type": "code",
   "execution_count": 1,
   "metadata": {},
   "outputs": [],
   "source": [
    "import sys\n",
    "import numpy as np\n",
    "\n",
    "sys.path.insert(1, \"../../\")\n",
    "from linear_model import LinearModel"
   ]
  },
  {
   "cell_type": "code",
   "execution_count": 2,
   "metadata": {},
   "outputs": [],
   "source": [
    "class LogisticRegression(LinearModel): \n",
    "    \"\"\"\n",
    "    Logistic regression using Newtons Method as solver\n",
    "    \"\"\"\n",
    "    \n",
    "    def fit(self, x, y):\n",
    "        \"\"\"\n",
    "        Args:\n",
    "            x: training example inputs. shape (m, n)\n",
    "            y: training example labels. shape (m) \n",
    "        \"\"\"\n",
    "        # sigmoid\n",
    "        g = lambda x: 1 / (1 + np.exp(-x))\n",
    "        # size of training example inputs\n",
    "        m, n = x.shape\n",
    "        \n",
    "        # initialize theta\n",
    "        if self.theta is None:\n",
    "            self.theta = np.zeros(n)\n",
    "            \n",
    "        while True: \n",
    "            theta = self.theta\n",
    "            x_theta = x.dot(theta)\n",
    "            # computes  gradient J\n",
    "            J = - (1 / m) * (y - g(x_theta)).dot(x)\n",
    "            \n",
    "            # compute H\n",
    "            H = (1 / m) * g(x_theta).dot(g(1 - x_theta)) * (x.T).dot(x)\n",
    "            H_inv = np.linalg.inv(H)\n",
    "            \n",
    "            # update\n",
    "            self.theta = theta - H_inv.dot(J)\n",
    "            \n",
    "            if np.linalg.norm(self.theta - theta, ord=1) < self.eps:\n",
    "                break\n",
    "                \n",
    "    def predict(self, x):\n",
    "        \"\"\"\n",
    "        Args:\n",
    "            x: inputs. shape (m, n)\n",
    "            \n",
    "        Return:\n",
    "            \n",
    "        \"\"\"\n",
    "        g = lambda x: 1 / (1 + np.exp)\n",
    "        preds = g(x.dot(self.theta))\n",
    "        \n",
    "        return preds\n",
    "            "
   ]
  },
  {
   "cell_type": "code",
   "execution_count": 3,
   "metadata": {},
   "outputs": [],
   "source": [
    "log_reg = LogisticRegression()"
   ]
  },
  {
   "cell_type": "code",
   "execution_count": 4,
   "metadata": {},
   "outputs": [
    {
     "data": {
      "text/plain": [
       "<__main__.LogisticRegression at 0x11dc88910>"
      ]
     },
     "execution_count": 4,
     "metadata": {},
     "output_type": "execute_result"
    }
   ],
   "source": []
  },
  {
   "cell_type": "code",
   "execution_count": null,
   "metadata": {},
   "outputs": [],
   "source": []
  }
 ],
 "metadata": {
  "kernelspec": {
   "display_name": "Python 3.7.6 64-bit ('venv': venv)",
   "language": "python",
   "name": "python37664bitvenvvenv35d8a8e8f97649d893e23f12ad7b1901"
  },
  "language_info": {
   "codemirror_mode": {
    "name": "ipython",
    "version": 3
   },
   "file_extension": ".py",
   "mimetype": "text/x-python",
   "name": "python",
   "nbconvert_exporter": "python",
   "pygments_lexer": "ipython3",
   "version": "3.7.6"
  }
 },
 "nbformat": 4,
 "nbformat_minor": 4
}
